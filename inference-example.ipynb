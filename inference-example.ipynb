{
 "cells": [
  {
   "cell_type": "code",
   "execution_count": 1,
   "id": "da6dffc9",
   "metadata": {},
   "outputs": [],
   "source": [
    "from transformers import pipeline"
   ]
  },
  {
   "cell_type": "code",
   "execution_count": 2,
   "id": "0e8c03e4",
   "metadata": {},
   "outputs": [],
   "source": [
    "classifier = pipeline(\n",
    "    \"text-classification\", model=\"./distil-bert-uncased/model/\", return_all_scores=True\n",
    ")"
   ]
  },
  {
   "cell_type": "code",
   "execution_count": 3,
   "id": "fc384142",
   "metadata": {},
   "outputs": [],
   "source": [
    "context = \"To rescue a child who has fallen down a well, rescue workers fasten him to a rope, the other end of which is then reeled in by a machine. The rope pulls the child straight upward at steady speed.\"\n",
    "question = \"How does the amount of tension in the rope compare to the downward force of gravity acting on the child?\"\n",
    "ref_answer = \"Since the child is being raised straight upward at a constant speed, the net force on the child is zero and all the forces balance. That means that the tension in the rope balances the downward force of gravity.\"\n",
    "student_answer = \"The tension force is higher than the force of gravity.\"\n",
    "\n",
    "body = \" [SEP] \".join([context, question, ref_answer, student_answer])"
   ]
  },
  {
   "cell_type": "code",
   "execution_count": 4,
   "id": "3ab74cdf",
   "metadata": {},
   "outputs": [],
   "source": [
    "_LABELS_ID2NAME = {\n",
    "    0: \"correct\", 1: \"correct_but_incomplete\", 2: \"contradictory\", 3: \"incorrect\",\n",
    "}\n",
    "\n",
    "_LABELS_NAME2ID = {v: k for k, v in _LABELS_ID2NAME.items()}"
   ]
  },
  {
   "cell_type": "code",
   "execution_count": 5,
   "id": "dea30beb",
   "metadata": {},
   "outputs": [
    {
     "data": {
      "text/plain": [
       "[[{'label': 'LABEL_0', 'score': 0.0004029414849355817},\n",
       "  {'label': 'LABEL_1', 'score': 0.0005476847873069346},\n",
       "  {'label': 'LABEL_2', 'score': 0.998059093952179},\n",
       "  {'label': 'LABEL_3', 'score': 0.0009902542224153876}]]"
      ]
     },
     "execution_count": 5,
     "metadata": {},
     "output_type": "execute_result"
    }
   ],
   "source": [
    "raw_results = classifier([body])\n",
    "raw_results"
   ]
  },
  {
   "cell_type": "code",
   "execution_count": 6,
   "id": "86ebdfbf",
   "metadata": {},
   "outputs": [
    {
     "data": {
      "text/plain": [
       "[[{'correct': '0.00'}],\n",
       " [{'correct_but_incomplete': '0.00'}],\n",
       " [{'contradictory': '1.00'}],\n",
       " [{'incorrect': '0.00'}]]"
      ]
     },
     "execution_count": 6,
     "metadata": {},
     "output_type": "execute_result"
    }
   ],
   "source": [
    "results = []\n",
    "for result in raw_results:\n",
    "    for score in result:\n",
    "        results.append([\n",
    "            {_LABELS_ID2NAME[int(score[\"label\"][-1:])]: \"%.2f\" % score[\"score\"]}\n",
    "        ])\n",
    "\n",
    "results"
   ]
  },
  {
   "cell_type": "code",
   "execution_count": null,
   "id": "a5f11025",
   "metadata": {},
   "outputs": [],
   "source": []
  }
 ],
 "metadata": {
  "kernelspec": {
   "display_name": "Python 3 (ipykernel)",
   "language": "python",
   "name": "python3"
  },
  "language_info": {
   "codemirror_mode": {
    "name": "ipython",
    "version": 3
   },
   "file_extension": ".py",
   "mimetype": "text/x-python",
   "name": "python",
   "nbconvert_exporter": "python",
   "pygments_lexer": "ipython3",
   "version": "3.9.0"
  }
 },
 "nbformat": 4,
 "nbformat_minor": 5
}